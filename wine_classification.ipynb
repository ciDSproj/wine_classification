{
 "cells": [
  {
   "cell_type": "markdown",
   "id": "f6a9e999",
   "metadata": {},
   "source": [
    "## Wine Classification"
   ]
  },
  {
   "cell_type": "markdown",
   "id": "7d7b36ac",
   "metadata": {},
   "source": [
    "### Summary\n",
    "\n",
    "In this project I built classification models for predicting wine classes applying various methods of feature selection. \n",
    "\n",
    "It is used the **Wine** dataset from <a href=\"https://archive.ics.uci.edu/dataset/109/wine\">UCI</a>.\n",
    "\n",
    "The project is done in Python. It uses Pandas and NumPy libraries for data manipulation, Matplotlib for visualizations, and \n",
    "sklearn for feature selection and building the classification models."
   ]
  },
  {
   "cell_type": "markdown",
   "id": "a96892b9",
   "metadata": {},
   "source": [
    "### Dataset Description\n",
    "\n",
    "The Wine dataset contains 13 distinctive features describing the chemical properties of the 178 wine examples. The examples \n",
    "belong to one of three different classes, 1, 2, and 3 which refer to the three different types of grapes grown in the same \n",
    "region in Italy but derived from different wine cultivars. All attributes are continuous.\n",
    "\n",
    "**Attribute information**\n",
    "- Alcohol\n",
    "- Malic acid\n",
    "- Ash\n",
    "- Alcalinity of ash  \n",
    "- Magnesium\n",
    "- Total phenols\n",
    "- Flavanoids\n",
    "- Nonflavanoid phenols\n",
    "- Proanthocyanins\n",
    "- Color intensity\n",
    "- Hue\n",
    "- OD280/OD315 of diluted wines\n",
    "- Proline    "
   ]
  },
  {
   "cell_type": "markdown",
   "id": "6be77714",
   "metadata": {},
   "source": [
    "### Import libraries"
   ]
  },
  {
   "cell_type": "code",
   "execution_count": 1,
   "id": "1f3bfec5",
   "metadata": {},
   "outputs": [],
   "source": [
    "import pandas as pd\n",
    "import numpy as np\n",
    "import matplotlib.pyplot as plt\n",
    "from sklearn.preprocessing import StandardScaler\n",
    "from sklearn.feature_selection import SelectKBest\n",
    "from sklearn.feature_selection import f_regression\n",
    "from mlxtend.feature_selection import SequentialFeatureSelector as SFS\n",
    "from mlxtend.plotting import plot_sequential_feature_selection as plot_sfs\n",
    "from sklearn.model_selection import train_test_split\n",
    "from sklearn.linear_model import LogisticRegression\n",
    "from sklearn.ensemble import RandomForestClassifier\n",
    "from sklearn.metrics import classification_report"
   ]
  },
  {
   "cell_type": "markdown",
   "id": "ce052812",
   "metadata": {},
   "source": [
    "### Load data"
   ]
  },
  {
   "cell_type": "code",
   "execution_count": 2,
   "id": "37dbdca6",
   "metadata": {},
   "outputs": [
    {
     "name": "stdout",
     "output_type": "stream",
     "text": [
      "(178, 14) \n",
      "\n",
      "Class labels [1 2 3]\n"
     ]
    },
    {
     "data": {
      "text/html": [
       "<div>\n",
       "<style scoped>\n",
       "    .dataframe tbody tr th:only-of-type {\n",
       "        vertical-align: middle;\n",
       "    }\n",
       "\n",
       "    .dataframe tbody tr th {\n",
       "        vertical-align: top;\n",
       "    }\n",
       "\n",
       "    .dataframe thead th {\n",
       "        text-align: right;\n",
       "    }\n",
       "</style>\n",
       "<table border=\"1\" class=\"dataframe\">\n",
       "  <thead>\n",
       "    <tr style=\"text-align: right;\">\n",
       "      <th></th>\n",
       "      <th>Class label</th>\n",
       "      <th>Alcohol</th>\n",
       "      <th>Malic acid</th>\n",
       "      <th>Ash</th>\n",
       "      <th>Alcalinity of ash</th>\n",
       "      <th>Magnesium</th>\n",
       "      <th>Total phenols</th>\n",
       "      <th>Flavanoids</th>\n",
       "      <th>Nonflavanoid phenols</th>\n",
       "      <th>Proanthocyanins</th>\n",
       "      <th>Color intensity</th>\n",
       "      <th>Hue</th>\n",
       "      <th>OD280/OD315 of diluted wines</th>\n",
       "      <th>Proline</th>\n",
       "    </tr>\n",
       "  </thead>\n",
       "  <tbody>\n",
       "    <tr>\n",
       "      <th>0</th>\n",
       "      <td>1</td>\n",
       "      <td>14.23</td>\n",
       "      <td>1.71</td>\n",
       "      <td>2.43</td>\n",
       "      <td>15.6</td>\n",
       "      <td>127</td>\n",
       "      <td>2.80</td>\n",
       "      <td>3.06</td>\n",
       "      <td>0.28</td>\n",
       "      <td>2.29</td>\n",
       "      <td>5.64</td>\n",
       "      <td>1.04</td>\n",
       "      <td>3.92</td>\n",
       "      <td>1065</td>\n",
       "    </tr>\n",
       "    <tr>\n",
       "      <th>1</th>\n",
       "      <td>1</td>\n",
       "      <td>13.20</td>\n",
       "      <td>1.78</td>\n",
       "      <td>2.14</td>\n",
       "      <td>11.2</td>\n",
       "      <td>100</td>\n",
       "      <td>2.65</td>\n",
       "      <td>2.76</td>\n",
       "      <td>0.26</td>\n",
       "      <td>1.28</td>\n",
       "      <td>4.38</td>\n",
       "      <td>1.05</td>\n",
       "      <td>3.40</td>\n",
       "      <td>1050</td>\n",
       "    </tr>\n",
       "    <tr>\n",
       "      <th>2</th>\n",
       "      <td>1</td>\n",
       "      <td>13.16</td>\n",
       "      <td>2.36</td>\n",
       "      <td>2.67</td>\n",
       "      <td>18.6</td>\n",
       "      <td>101</td>\n",
       "      <td>2.80</td>\n",
       "      <td>3.24</td>\n",
       "      <td>0.30</td>\n",
       "      <td>2.81</td>\n",
       "      <td>5.68</td>\n",
       "      <td>1.03</td>\n",
       "      <td>3.17</td>\n",
       "      <td>1185</td>\n",
       "    </tr>\n",
       "    <tr>\n",
       "      <th>3</th>\n",
       "      <td>1</td>\n",
       "      <td>14.37</td>\n",
       "      <td>1.95</td>\n",
       "      <td>2.50</td>\n",
       "      <td>16.8</td>\n",
       "      <td>113</td>\n",
       "      <td>3.85</td>\n",
       "      <td>3.49</td>\n",
       "      <td>0.24</td>\n",
       "      <td>2.18</td>\n",
       "      <td>7.80</td>\n",
       "      <td>0.86</td>\n",
       "      <td>3.45</td>\n",
       "      <td>1480</td>\n",
       "    </tr>\n",
       "    <tr>\n",
       "      <th>4</th>\n",
       "      <td>1</td>\n",
       "      <td>13.24</td>\n",
       "      <td>2.59</td>\n",
       "      <td>2.87</td>\n",
       "      <td>21.0</td>\n",
       "      <td>118</td>\n",
       "      <td>2.80</td>\n",
       "      <td>2.69</td>\n",
       "      <td>0.39</td>\n",
       "      <td>1.82</td>\n",
       "      <td>4.32</td>\n",
       "      <td>1.04</td>\n",
       "      <td>2.93</td>\n",
       "      <td>735</td>\n",
       "    </tr>\n",
       "  </tbody>\n",
       "</table>\n",
       "</div>"
      ],
      "text/plain": [
       "   Class label  Alcohol  Malic acid   Ash  Alcalinity of ash  Magnesium  \\\n",
       "0            1    14.23        1.71  2.43               15.6        127   \n",
       "1            1    13.20        1.78  2.14               11.2        100   \n",
       "2            1    13.16        2.36  2.67               18.6        101   \n",
       "3            1    14.37        1.95  2.50               16.8        113   \n",
       "4            1    13.24        2.59  2.87               21.0        118   \n",
       "\n",
       "   Total phenols  Flavanoids  Nonflavanoid phenols  Proanthocyanins  \\\n",
       "0           2.80        3.06                  0.28             2.29   \n",
       "1           2.65        2.76                  0.26             1.28   \n",
       "2           2.80        3.24                  0.30             2.81   \n",
       "3           3.85        3.49                  0.24             2.18   \n",
       "4           2.80        2.69                  0.39             1.82   \n",
       "\n",
       "   Color intensity   Hue  OD280/OD315 of diluted wines  Proline  \n",
       "0             5.64  1.04                          3.92     1065  \n",
       "1             4.38  1.05                          3.40     1050  \n",
       "2             5.68  1.03                          3.17     1185  \n",
       "3             7.80  0.86                          3.45     1480  \n",
       "4             4.32  1.04                          2.93      735  "
      ]
     },
     "execution_count": 2,
     "metadata": {},
     "output_type": "execute_result"
    }
   ],
   "source": [
    "# Retrieve data in a pandas dataframe\n",
    "url = 'https://archive.ics.uci.edu/ml/machine-learning-databases/wine/wine.data'\n",
    "wine = pd.read_csv(url,\n",
    "        header=None)\n",
    "\n",
    "# Get column names\n",
    "wine.columns = ['Class label', 'Alcohol', 'Malic acid', 'Ash',\n",
    "                'Alcalinity of ash', 'Magnesium', 'Total phenols',\n",
    "                 'Flavanoids', 'Nonflavanoid phenols', 'Proanthocyanins',\n",
    "                'Color intensity', 'Hue', 'OD280/OD315 of diluted wines',\n",
    "                'Proline']\n",
    "\n",
    "# Print the shape and the first rows\n",
    "print(wine.shape, \"\\n\")\n",
    "print('Class labels', np.unique(wine['Class label']))\n",
    "wine.head()"
   ]
  },
  {
   "cell_type": "markdown",
   "id": "6e5d9f87",
   "metadata": {},
   "source": [
    "### Split the dataset in train and test data"
   ]
  },
  {
   "cell_type": "code",
   "execution_count": 3,
   "id": "847ddc49",
   "metadata": {},
   "outputs": [
    {
     "name": "stdout",
     "output_type": "stream",
     "text": [
      "(178, 13)\n",
      "(178,)\n"
     ]
    }
   ],
   "source": [
    "# Create the label\n",
    "label = \"Class label\"\n",
    "# Create a dataframe for the label\n",
    "y = wine[label]\n",
    "# Create a list with all columns\n",
    "cols = list(wine.columns)\n",
    "# Remove Label from columns list\n",
    "cols.remove(label)\n",
    "# Create a dataframe without label\n",
    "X = wine[cols]\n",
    "# Print the shape of X and y\n",
    "print(X.shape)\n",
    "print(y.shape)"
   ]
  },
  {
   "cell_type": "code",
   "execution_count": 4,
   "id": "62453aa8",
   "metadata": {},
   "outputs": [
    {
     "name": "stdout",
     "output_type": "stream",
     "text": [
      "X_train:  (124, 13)\n",
      "y_train:  (124,)\n",
      "X_test:  (54, 13)\n",
      "y_test:  (54,)\n"
     ]
    }
   ],
   "source": [
    "# Split the dataset into training set and testing set\n",
    "X_train, X_test, y_train, y_test =\\\n",
    "                    train_test_split(X, y, \n",
    "                     test_size=0.3, \n",
    "                     random_state=0,\n",
    "                     stratify=y)\n",
    "\n",
    "# Print the shape of the training and testing datasets\n",
    "print('X_train: ', X_train.shape)\n",
    "print('y_train: ', y_train.shape)\n",
    "print('X_test: ', X_test.shape)\n",
    "print('y_test: ', y_test.shape)"
   ]
  },
  {
   "cell_type": "markdown",
   "id": "47d79b47",
   "metadata": {},
   "source": [
    "### Scale features"
   ]
  },
  {
   "cell_type": "code",
   "execution_count": 5,
   "id": "31ee683d",
   "metadata": {},
   "outputs": [],
   "source": [
    "# Scale features\n",
    "stdsc = StandardScaler()\n",
    "X_train_std = stdsc.fit_transform(X_train)\n",
    "X_test_std = stdsc.transform(X_test)"
   ]
  },
  {
   "cell_type": "markdown",
   "id": "584fb4b4",
   "metadata": {},
   "source": [
    "### Correlation Statistics Method"
   ]
  },
  {
   "cell_type": "markdown",
   "id": "774abff0",
   "metadata": {},
   "source": [
    "**Feature selection** is the process of selecting a subset of features which are good predictors of the target. \n",
    "\n",
    "**Correlation Statistics** and **Mutual Information Statistics** techniques are part of the **filter methods**. Filter methods \n",
    "rank each feature based on some uni-variate metric and then selects the highest-ranking features. \n",
    "\n",
    "Next, we'll use the correlation statistics method for finding the most predictive features.\n",
    "\n",
    "Sklearn library provides an implementation of the correlation statistic in the f_regression() function. \n",
    "\n",
    "We define the SelectKBest class to use the f_regression() function and select all the features, then transform the train and \n",
    "test sets and see how many top k most relevant features we should select. "
   ]
  },
  {
   "cell_type": "code",
   "execution_count": 6,
   "id": "23dd9dc8",
   "metadata": {},
   "outputs": [],
   "source": [
    "# Define a function for feature selection using all the features\n",
    "\n",
    "def select_features(X_train, y_train, X_test):\n",
    "    \"\"\"Function for feature selection using all the features\"\"\"\n",
    "    # configure to select all features\n",
    "    fs = SelectKBest(score_func=f_regression, k='all')\n",
    "    # learn relationship from training data\n",
    "    fs.fit(X_train, y_train)\n",
    "    # transform train input data\n",
    "    X_train_fs = fs.transform(X_train)\n",
    "    # transform test input data\n",
    "    X_test_fs = fs.transform(X_test)\n",
    "    return X_train_fs, X_test_fs, fs\n",
    "\n",
    "# Select the features\n",
    "X_train_fs, X_test_fs, fs = select_features(X_train, y_train, X_test)"
   ]
  },
  {
   "cell_type": "markdown",
   "id": "0c69a1d2",
   "metadata": {},
   "source": [
    "Next are printed the scores for each variable (larger is better). "
   ]
  },
  {
   "cell_type": "code",
   "execution_count": 7,
   "id": "f731e6aa",
   "metadata": {},
   "outputs": [
    {
     "name": "stdout",
     "output_type": "stream",
     "text": [
      "Feature 0: 13.968436\n",
      "Feature 1: 30.910616\n",
      "Feature 2: 0.773105\n",
      "Feature 3: 31.359399\n",
      "Feature 4: 6.987836\n",
      "Feature 5: 142.375295\n",
      "Feature 6: 337.417368\n",
      "Feature 7: 46.032649\n",
      "Feature 8: 41.122449\n",
      "Feature 9: 7.013232\n",
      "Feature 10: 100.048523\n",
      "Feature 11: 159.565213\n",
      "Feature 12: 92.838547\n"
     ]
    }
   ],
   "source": [
    "# Print the scores calculated for each input feature and the target variable\n",
    "for i in range(len(fs.scores_)):\n",
    "    print('Feature %d: %f' % (i, fs.scores_[i]))"
   ]
  },
  {
   "cell_type": "markdown",
   "id": "69f91f55",
   "metadata": {},
   "source": [
    "Below it is plotted a bar chart of the **feature importance scores** for each input feature."
   ]
  },
  {
   "cell_type": "code",
   "execution_count": 8,
   "id": "ee10e1f4",
   "metadata": {},
   "outputs": [
    {
     "data": {
      "image/png": "[encoded data removed]",
      "text/plain": [
       "<Figure size 576x288 with 1 Axes>"
      ]
     },
     "metadata": {
      "needs_background": "light"
     },
     "output_type": "display_data"
    }
   ],
   "source": [
    "# Plot the scores\n",
    "plt.gcf ().set_size_inches (8, 4)\n",
    "plt.bar([i for i in range(len(fs.scores_))], \n",
    "        fs.scores_)\n",
    "plt.title('Input Features vs. Correlation Feature Importance')\n",
    "plt.xlabel('Input Feature')\n",
    "plt.ylabel('Score')\n",
    "plt.show()"
   ]
  },
  {
   "cell_type": "markdown",
   "id": "0b8a89f8",
   "metadata": {},
   "source": [
    "The plot shows that aproximately **5 features** are a lot more important than the other features. \n",
    "\n",
    "The features selected by the correlation statistics method are: \n",
    "\n",
    "1. Total phenols\n",
    "2. Flavanoids\n",
    "3. Hue\n",
    "4. OD280/OD315 of diluted wines\n",
    "5. Proline"
   ]
  },
  {
   "cell_type": "markdown",
   "id": "b923196c",
   "metadata": {},
   "source": [
    "### Logistic Regression model using Correlation Features"
   ]
  },
  {
   "cell_type": "markdown",
   "id": "89ee8ece",
   "metadata": {},
   "source": [
    "We will set k=5 when configuring the SelectKBest to select these top features and build a logistic regression model."
   ]
  },
  {
   "cell_type": "code",
   "execution_count": 9,
   "id": "72d50cb5",
   "metadata": {},
   "outputs": [
    {
     "name": "stdout",
     "output_type": "stream",
     "text": [
      "Training accuracy: 0.967741935483871\n",
      "Test accuracy: 0.9444444444444444\n"
     ]
    }
   ],
   "source": [
    "# Use k=5 number of features\n",
    "\n",
    "def select_features(X_train, y_train, X_test):\n",
    "    # configure to select a subset of features\n",
    "    fs = SelectKBest(score_func=f_regression, k=5)            \n",
    "    # learn relationship from training data\n",
    "    fs.fit(X_train, y_train)\n",
    "    # transform train input data\n",
    "    X_train_fs = fs.transform(X_train)\n",
    "    # transform test input data\n",
    "    X_test_fs = fs.transform(X_test)\n",
    "    return X_train_fs, X_test_fs, fs\n",
    "\n",
    "# Select the features\n",
    "X_train_fs, X_test_fs, fs = \\\n",
    "    select_features(X_train_std,\n",
    "                    y_train,\n",
    "                    X_test_std)\n",
    "\n",
    "# Fit the model\n",
    "model = LogisticRegression(random_state=42)     \n",
    "model.fit(X_train_fs, y_train)\n",
    "# Evaluate the model\n",
    "print('Training accuracy:', \\\n",
    "      model.score(X_train_fs, y_train))\n",
    "print('Test accuracy:', \\\n",
    "      model.score(X_test_fs, y_test))"
   ]
  },
  {
   "cell_type": "markdown",
   "id": "ad22b5c8",
   "metadata": {},
   "source": [
    "It was used the accuracy score to evaluate the performance of the model on the feature subset.\n",
    "\n",
    "Both training and test accuracies indicate that the model using only 5 features does a good job on both datasets."
   ]
  },
  {
   "cell_type": "markdown",
   "id": "0091fd1c",
   "metadata": {},
   "source": [
    "### Forward Feature Selection"
   ]
  },
  {
   "cell_type": "markdown",
   "id": "cfce7e90",
   "metadata": {},
   "source": [
    "**Forward Feature Selection** and **Backward Feature Selection** are part of the **wrapper methods**. \n",
    "\n",
    "Backward feature selection uses recursive feature elimination (RFE) from sklean. \n",
    "\n",
    "Next, we'll use the forward feature selection method. The method starts with the evaluation of each individual feature, adding \n",
    "one feature in the model at each step based on the model performance until a feature subset of the desired size k is reached.\n",
    "\n",
    "To perform the forward feature selection, it is used the Sequential Feature Selector (SFS) from mlxtend. \n",
    "\n",
    "Below are selected k=12 features from the dataset via SFS. After importing the function \n",
    "plotting.plot_sequential_feature_selection, we can also visualize the results using Matplotlib."
   ]
  },
  {
   "cell_type": "code",
   "execution_count": 10,
   "id": "ffc31eb7",
   "metadata": {},
   "outputs": [
    {
     "data": {
      "image/png": "[encoded data removed]",
      "text/plain": [
       "<Figure size 576x288 with 1 Axes>"
      ]
     },
     "metadata": {
      "needs_background": "light"
     },
     "output_type": "display_data"
    }
   ],
   "source": [
    "# build the model\n",
    "model = LogisticRegression(random_state=42)     \n",
    "\n",
    "# use SFS for feature selection\n",
    "sfs = SFS(model, \n",
    "          k_features=12,                        \n",
    "          forward=True,  \n",
    "          floating=False, \n",
    "          scoring='neg_mean_squared_error',\n",
    "          cv=5)\n",
    "\n",
    "sfs = sfs.fit(X_train_std, y_train)\n",
    "# plot results of SFS\n",
    "fig = plot_sfs(sfs.get_metric_dict(), \n",
    "               kind='std_err', \n",
    "               figsize=(8, 4))\n",
    "plt.title('Sequential Forward Selection (w. StdErr)')\n",
    "plt.grid()\n",
    "plt.show()"
   ]
  },
  {
   "cell_type": "markdown",
   "id": "44d563c4",
   "metadata": {},
   "source": [
    "The plot shows that the best model performance is for 5 features. The get_metric_dict() method shows which are the\n",
    "5 features used for the best model performance."
   ]
  },
  {
   "cell_type": "code",
   "execution_count": 12,
   "id": "f86af51e",
   "metadata": {},
   "outputs": [
    {
     "data": {
      "text/plain": [
       "{'feature_idx': (0, 4, 6, 10, 12),\n",
       " 'cv_scores': array([-0.04, -0.04, -0.04, -0.04, -0.  ]),\n",
       " 'avg_score': -0.032,\n",
       " 'feature_names': ('0', '4', '6', '10', '12'),\n",
       " 'ci_bound': 0.020564654692917912,\n",
       " 'std_dev': 0.016,\n",
       " 'std_err': 0.007999999999999998}"
      ]
     },
     "execution_count": 12,
     "metadata": {},
     "output_type": "execute_result"
    }
   ],
   "source": [
    "# Get the 5 features for model\n",
    "sfs.get_metric_dict()[5] "
   ]
  },
  {
   "cell_type": "markdown",
   "id": "d8a79791",
   "metadata": {},
   "source": [
    "The features selected using the forward feature selection method are: \n",
    "\n",
    "1. Alcohol\n",
    "2. Magnesium\n",
    "3. Flavanoids\n",
    "4. Hue\n",
    "5. Proline"
   ]
  },
  {
   "cell_type": "markdown",
   "id": "6547c26c",
   "metadata": {},
   "source": [
    "### Logistic Regression using Forward Selection Features"
   ]
  },
  {
   "cell_type": "markdown",
   "id": "42cae942",
   "metadata": {},
   "source": [
    "We'll create la dataframe with the 5 features identified using the Forward Selection Features."
   ]
  },
  {
   "cell_type": "code",
   "execution_count": 13,
   "id": "87a89ab2",
   "metadata": {},
   "outputs": [
    {
     "data": {
      "text/plain": [
       "(178, 5)"
      ]
     },
     "execution_count": 13,
     "metadata": {},
     "output_type": "execute_result"
    }
   ],
   "source": [
    "# Create a list with the 5 features\n",
    "selected_features = ['Alcohol', 'Magnesium', \n",
    "            'Flavanoids', 'Hue', 'Proline']\n",
    "\n",
    "# Create a dataframe with selected features \n",
    "# by applying a mask\n",
    "wine_Forward = wine[selected_features]\n",
    "# Check the shape\n",
    "wine_Forward.shape"
   ]
  },
  {
   "cell_type": "code",
   "execution_count": 14,
   "id": "ba56f176",
   "metadata": {},
   "outputs": [
    {
     "data": {
      "text/plain": [
       "(178, 5)"
      ]
     },
     "execution_count": 14,
     "metadata": {},
     "output_type": "execute_result"
    }
   ],
   "source": [
    "# Create an array with the values in the dataframe \n",
    "# with selected features\n",
    "array = wine_Forward.values\n",
    "# Make a numpy array\n",
    "X_selected = array[:, 0:5]\n",
    "# Check shape of X_selected\n",
    "X_selected.shape"
   ]
  },
  {
   "cell_type": "code",
   "execution_count": 15,
   "id": "f252c639",
   "metadata": {},
   "outputs": [],
   "source": [
    "# Split the dataset into training set and testing set\n",
    "X_train, X_test, y_train, y_test = train_test_split(X_selected, \n",
    "                            y, test_size=0.2, random_state=123)\n",
    "\n",
    "# Scale features\n",
    "stdsc = StandardScaler()\n",
    "X_train_std = stdsc.fit_transform(X_train)\n",
    "X_test_std = stdsc.transform(X_test)"
   ]
  },
  {
   "cell_type": "code",
   "execution_count": 16,
   "id": "2a31a7d0",
   "metadata": {},
   "outputs": [
    {
     "name": "stdout",
     "output_type": "stream",
     "text": [
      "Training accuracy: 0.9859154929577465\n",
      "Test accuracy: 1.0\n"
     ]
    }
   ],
   "source": [
    "# Build the model\n",
    "model = LogisticRegression(random_state=42)     # multi_class='multinomial' is the default\n",
    "model.fit(X_train_std, y_train)\n",
    "# Get model score\n",
    "print('Training accuracy:', model.score(X_train_std, y_train))\n",
    "print('Test accuracy:', model.score(X_test_std, y_test))"
   ]
  },
  {
   "cell_type": "markdown",
   "id": "521eaf39",
   "metadata": {},
   "source": [
    "Training and test accuracies have high values, using the 5 features selected by the sequential forward technique."
   ]
  },
  {
   "cell_type": "markdown",
   "id": "d26d8d92",
   "metadata": {},
   "source": [
    "### L1 Regularization"
   ]
  },
  {
   "cell_type": "markdown",
   "id": "1e950881",
   "metadata": {},
   "source": [
    "**L1 and L2 regularization** techniques are part of the **embedded methods**. \n",
    "\n",
    "Embedded methods perform feature selection as a part of the model creation process. \n",
    "\n",
    "We can apply **L1 regularization** (Lasso) to encourage **sparsity in feature selection** or **L2 regularization** (Ridge) \n",
    "to **prevent overfitting**.\n",
    "\n",
    "For L1 regularization, we set the penalty parameter to 'l1' to obtain a sparse solution and the solver to 'liblinear'.\n",
    "\n",
    "The default value for C parameter is 1; smaller values specify stronger regularization. We'll build a model using C=0.1."
   ]
  },
  {
   "cell_type": "code",
   "execution_count": 17,
   "id": "859d2ab5",
   "metadata": {},
   "outputs": [],
   "source": [
    "# Split the dataset into training set and testing set\n",
    "X_train, X_test, y_train, y_test =\\\n",
    "                    train_test_split(X, y, \n",
    "                     test_size=0.3, \n",
    "                     random_state=0,\n",
    "                     stratify=y)\n",
    "\n",
    "# Scale features\n",
    "stdsc = StandardScaler()\n",
    "X_train_std = stdsc.fit_transform(X_train)\n",
    "X_test_std = stdsc.transform(X_test)"
   ]
  },
  {
   "cell_type": "code",
   "execution_count": 18,
   "id": "30ed4b48",
   "metadata": {},
   "outputs": [
    {
     "name": "stdout",
     "output_type": "stream",
     "text": [
      "Training accuracy: 0.9596774193548387\n",
      "Test accuracy: 0.9814814814814815\n"
     ]
    }
   ],
   "source": [
    "# Select C=0.1\n",
    "\n",
    "# Fit a logistic regression model\n",
    "model = LogisticRegression(penalty='l1', \n",
    "                           solver='liblinear', \n",
    "                           C=0.1, \n",
    "                           random_state=42)\n",
    "model.fit(X_train_std, \n",
    "          y_train)\n",
    "\n",
    "# Determine training and test accuracy scores\n",
    "print('Training accuracy:', \n",
    "      model.score(X_train_std, y_train))\n",
    "print('Test accuracy:', \n",
    "      model.score(X_test_std, y_test))"
   ]
  },
  {
   "cell_type": "code",
   "execution_count": 19,
   "id": "68833044",
   "metadata": {},
   "outputs": [
    {
     "name": "stdout",
     "output_type": "stream",
     "text": [
      "Intercept \n",
      " [-0.31871907 -0.09903641 -0.81383908]\n",
      "\n",
      "\n",
      "Coefficients \n",
      " [[ 0.21949944  0.          0.          0.          0.          0.\n",
      "   0.54254529  0.          0.          0.          0.          0.\n",
      "   1.51466598]\n",
      " [-0.76604571 -0.04059071  0.          0.          0.          0.\n",
      "   0.          0.          0.         -0.82388392  0.00706422  0.06470872\n",
      "  -0.41591259]\n",
      " [ 0.          0.          0.          0.          0.          0.\n",
      "  -0.7436765   0.          0.          0.42975784 -0.31939844 -0.51927735\n",
      "   0.        ]]\n"
     ]
    }
   ],
   "source": [
    "# Intercept and coefficients\n",
    "print(\"Intercept\", \"\\n\", model.intercept_)\n",
    "print(\"\\n\")\n",
    "print(\"Coefficients\", \"\\n\", model.coef_)"
   ]
  },
  {
   "cell_type": "markdown",
   "id": "3ca61d2f",
   "metadata": {},
   "source": [
    "Applied to the standardized wine dataset, the L1 regularized logistic regression yielded the sparse solution above.\n",
    "\n",
    "We observe that the intercept array contains three values, corresponding to classes 1, 2 and 3.\n",
    "\n",
    "The weight array contains three rows of weight coefficients, one weight vector for each class.\n",
    "\n",
    "We could enforce sparsity by further increasing the regularization strength, by choosing lower values for the C parameter."
   ]
  },
  {
   "cell_type": "markdown",
   "id": "49d535c0",
   "metadata": {},
   "source": [
    "### L2 Regularization"
   ]
  },
  {
   "cell_type": "markdown",
   "id": "796ab018",
   "metadata": {},
   "source": [
    "L2 regularization is used to reduce complexity of a model by penalizing large individual weights.\n",
    "\n",
    "The default value for C parameter is 1.\n",
    "The penalty='l2' specifies L2 regularization, which helps reduce overfitting and solver remains as 'lbfgs'.\n",
    "\n",
    "Below we'll build a model using C=0.01."
   ]
  },
  {
   "cell_type": "code",
   "execution_count": 20,
   "id": "230dc38e",
   "metadata": {},
   "outputs": [
    {
     "name": "stdout",
     "output_type": "stream",
     "text": [
      "Training accuracy: 0.9758064516129032\n",
      "Test accuracy: 0.9814814814814815\n"
     ]
    }
   ],
   "source": [
    "# C=0.01\n",
    "\n",
    "# Fit a logistic regression model\n",
    "model = LogisticRegression(penalty='l2', \n",
    "                           solver='lbfgs', \n",
    "                           C=0.01, \n",
    "                           random_state=42)     \n",
    "model.fit(X_train_std, y_train)\n",
    "\n",
    "# Determine training and test accuracy scores\n",
    "print('Training accuracy:', \\\n",
    "      model.score(X_train_std,  y_train))\n",
    "print('Test accuracy:', \\\n",
    "      model.score(X_test_std, y_test))"
   ]
  },
  {
   "cell_type": "code",
   "execution_count": 21,
   "id": "70747117",
   "metadata": {},
   "outputs": [
    {
     "name": "stdout",
     "output_type": "stream",
     "text": [
      "Intercept \n",
      " [-0.00358127  0.31788065 -0.31429938]\n",
      "\n",
      "\n",
      "Coefficients \n",
      " [[ 1.67464907e-01 -3.31954423e-02  6.56379249e-02 -1.27691033e-01\n",
      "   6.95778772e-02  1.23921003e-01  1.47843191e-01 -7.35623698e-02\n",
      "   6.41576427e-02  4.00573412e-02  8.08487556e-02  1.02084212e-01\n",
      "   2.15757387e-01]\n",
      " [-2.09282642e-01 -7.34036860e-02 -9.74416926e-02  8.00227834e-02\n",
      "  -8.00494476e-02 -2.10364298e-04  2.69053457e-02 -2.11335079e-02\n",
      "   2.98282555e-02 -1.90216266e-01  8.15612069e-02  8.22568057e-02\n",
      "  -1.81498497e-01]\n",
      " [ 4.18177353e-02  1.06599128e-01  3.18037676e-02  4.76682496e-02\n",
      "   1.04715704e-02 -1.23710639e-01 -1.74748536e-01  9.46958778e-02\n",
      "  -9.39858981e-02  1.50158925e-01 -1.62409962e-01 -1.84341018e-01\n",
      "  -3.42588900e-02]]\n"
     ]
    }
   ],
   "source": [
    "# Intercept and coefficients\n",
    "print(\"Intercept\", \"\\n\", model.intercept_)\n",
    "print(\"\\n\")\n",
    "print(\"Coefficients\", \"\\n\", model.coef_)"
   ]
  },
  {
   "cell_type": "markdown",
   "id": "9660df07",
   "metadata": {},
   "source": [
    "Training and test accuracies have high values when using a C value of 0.01.\n",
    "\n",
    "Smaller values for C parameter (ex C=0.001) lead to lower accuracy scores for both training and test datasets."
   ]
  },
  {
   "cell_type": "markdown",
   "id": "f3a530b9",
   "metadata": {},
   "source": [
    "### Feature Importance with Random Forest"
   ]
  },
  {
   "cell_type": "markdown",
   "id": "b5432ba3",
   "metadata": {},
   "source": [
    "Another approach for selecting relevant features from a dataset is using random forest.\n",
    "\n",
    "In sklearn we can access the feature importance values after fitting a RandomForestClassifier.\n",
    "\n",
    "We'll train next a forest model of 500 trees and rank the 13 features by their respective importance measures."
   ]
  },
  {
   "cell_type": "code",
   "execution_count": 22,
   "id": "fc95a27f",
   "metadata": {},
   "outputs": [
    {
     "name": "stdout",
     "output_type": "stream",
     "text": [
      " 1) Proline                        0.185453\n",
      " 2) Flavanoids                     0.174751\n",
      " 3) Color intensity                0.143920\n",
      " 4) OD280/OD315 of diluted wines   0.136162\n",
      " 5) Alcohol                        0.118529\n",
      " 6) Hue                            0.058739\n",
      " 7) Total phenols                  0.050872\n",
      " 8) Magnesium                      0.031357\n",
      " 9) Malic acid                     0.025648\n",
      "10) Proanthocyanins                0.025570\n",
      "11) Alcalinity of ash              0.022366\n",
      "12) Nonflavanoid phenols           0.013354\n",
      "13) Ash                            0.013279\n"
     ]
    },
    {
     "data": {
      "image/png": "[encoded data removed]",
      "text/plain": [
       "<Figure size 432x288 with 1 Axes>"
      ]
     },
     "metadata": {
      "needs_background": "light"
     },
     "output_type": "display_data"
    }
   ],
   "source": [
    "feat_labels = wine.columns[1:]\n",
    "\n",
    "forest = RandomForestClassifier(n_estimators=500,\n",
    "                                random_state=1)\n",
    "\n",
    "forest.fit(X_train, y_train)\n",
    "importances = forest.feature_importances_\n",
    "\n",
    "indices = np.argsort(importances)[::-1]\n",
    "\n",
    "for f in range(X_train.shape[1]):\n",
    "    print(\"%2d) %-*s %f\" % (f + 1, 30, \n",
    "                            feat_labels[indices[f]], \n",
    "                            importances[indices[f]]))\n",
    "\n",
    "plt.title('Feature Importance')\n",
    "plt.bar(range(X_train.shape[1]), \n",
    "        importances[indices],\n",
    "        align='center')\n",
    "\n",
    "plt.xticks(range(X_train.shape[1]), \n",
    "           feat_labels[indices], rotation=90)\n",
    "plt.xlim([-1, X_train.shape[1]])\n",
    "plt.tight_layout()\n",
    "plt.show()"
   ]
  },
  {
   "cell_type": "markdown",
   "id": "b9104291",
   "metadata": {},
   "source": [
    "The plot above shows the relative importance of the features in the wine dataset.\n",
    "\n",
    "We can conclude that the **Proline** and **Flavonoid** levels, the **Color intensity**, the **OD280/OD315 diffraction**, and \n",
    "the **Alcohol** concentration of wine, are the most discriminative features in the dataset based on the average impurity \n",
    "decrease in the 500 decision trees.\n",
    "\n",
    "We observe that two of the top-ranked features in the plot are also in the 5-features subset selection from correlation \n",
    "statistics and forward selection (**Proline** and **Flavanoids**)."
   ]
  },
  {
   "cell_type": "code",
   "execution_count": null,
   "id": "1c35818a",
   "metadata": {},
   "outputs": [],
   "source": []
  }
 ],
 "metadata": {
  "kernelspec": {
   "display_name": "Python 3 (ipykernel)",
   "language": "python",
   "name": "python3"
  },
  "language_info": {
   "codemirror_mode": {
    "name": "ipython",
    "version": 3
   },
   "file_extension": ".py",
   "mimetype": "text/x-python",
   "name": "python",
   "nbconvert_exporter": "python",
   "pygments_lexer": "ipython3",
   "version": "3.9.12"
  }
 },
 "nbformat": 4,
 "nbformat_minor": 5
}
